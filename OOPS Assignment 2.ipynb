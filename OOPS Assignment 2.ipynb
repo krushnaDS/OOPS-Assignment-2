{
 "cells": [
  {
   "cell_type": "code",
   "execution_count": 3,
   "id": "06f2bbb0",
   "metadata": {},
   "outputs": [
    {
     "data": {
      "text/plain": [
       "'In this example, Shape is an abstract base class that defines an abstract method area(). \\nThe Rectangle and Circle classes inherit from Shape and implement their own area() methods.\\nThe users of these classes can call the area() method without needing to know how it is implemented.'"
      ]
     },
     "execution_count": 3,
     "metadata": {},
     "output_type": "execute_result"
    }
   ],
   "source": [
    "'''Q1. What is Abstraction in OOps? Explain with an example.\n",
    "\n",
    "Abstraction is a fundamental concept in object-oriented programming that helps to encapsulate \n",
    "the implementation details of a class from its users. It allows users to interact with a class\n",
    "without needing to know how it works internally.\n",
    "\n",
    "\n",
    "'''\n",
    "from abc import ABC, abstractmethod\n",
    "class Shape(ABC):\n",
    "    @abstractmethod\n",
    "    def area(self):\n",
    "        pass\n",
    "class Rectangle(Shape):\n",
    "    def __init__(self, width, height):\n",
    "        self.width = width\n",
    "        self.height = height\n",
    "    \n",
    "    def area(self):\n",
    "        return self.width * self.height\n",
    "class Circle(Shape):\n",
    "    def __init__(self, radius):\n",
    "        self.radius = radius\n",
    "    \n",
    "    def area(self):\n",
    "        return 3.14 * self.radius * self.radius\n",
    "    \n",
    "'''In this example, Shape is an abstract base class that defines an abstract method area(). \n",
    "The Rectangle and Circle classes inherit from Shape and implement their own area() methods.\n",
    "The users of these classes can call the area() method without needing to know how it is implemented.'''\n"
   ]
  },
  {
   "cell_type": "code",
   "execution_count": null,
   "id": "c6d20f57",
   "metadata": {},
   "outputs": [],
   "source": [
    "'''Q2. Differentiate between Abstraction and Encapsulation. Explain with an example.\n",
    "\n",
    "1. Abstraction shows only useful data by providing the most necessary details, whereas Encapsulation \n",
    "wraps code and data for necessary information.\n",
    "2. Abstraction is focused mainly on what should be done, while Encapsulation is focused on how it should be done.\n",
    "3. Abstraction hides complexity by giving you a more abstract picture, while Encapsulation hides internal work \n",
    "   so that you can change it later.\n",
    "4. Abstraction helps you to partition the program into many independent portions, whereas Encapsulation is easy\n",
    "  to change with new requirements.\n",
    "5. Comparing Encapsulation vs Abstraction, Abstraction solves problems at the design level while Encapsulation\n",
    "   solves problems at the implementation level.\n",
    "6. Abstraction hides the irrelevant details found in the code, whereas Encapsulation helps developers to organize \n",
    "   the entire code easily.\n",
    "'''"
   ]
  },
  {
   "cell_type": "code",
   "execution_count": 2,
   "id": "c43cdab1",
   "metadata": {},
   "outputs": [
    {
     "data": {
      "text/plain": [
       "\"Q3. What is abc module in python? Why is it used?\\n\\nIt stands for the abstract base class and is a concept in Python classes based on abstraction.\\nAbstraction is an integral part of object-oriented programming.\\nAbstraction is what we call hiding the internal process of the program from the users. \\n\\n if a derived class doesn't follow the blueprint of the abstract class, then the error will be raised.\\n\\nThat's where ABC(Abstract Base Class) plays an important role in making sure that the subclasses must \\nfollow that blueprint. Thus we can say that the subclasses inherited from the abstract class must follow \\nthe same structure and implements the abstract methods.\\n\""
      ]
     },
     "execution_count": 2,
     "metadata": {},
     "output_type": "execute_result"
    }
   ],
   "source": [
    "'''Q3. What is abc module in python? Why is it used?\n",
    "\n",
    "It stands for the abstract base class and is a concept in Python classes based on abstraction.\n",
    "Abstraction is an integral part of object-oriented programming.\n",
    "Abstraction is what we call hiding the internal process of the program from the users. \n",
    "\n",
    " if a derived class doesn't follow the blueprint of the abstract class, then the error will be raised.\n",
    "\n",
    "That's where ABC(Abstract Base Class) plays an important role in making sure that the subclasses must \n",
    "follow that blueprint. Thus we can say that the subclasses inherited from the abstract class must follow \n",
    "the same structure and implements the abstract methods.\n",
    "'''"
   ]
  },
  {
   "cell_type": "code",
   "execution_count": 3,
   "id": "cf19c0bc",
   "metadata": {},
   "outputs": [
    {
     "data": {
      "text/plain": [
       "'Q4. How can we achieve data abstraction?\\n\\nData Abstraction in Python can be achieved through creating abstract classes and inheriting them later. \\nAbstract Class: The classes that cannot be instantiated. This means that we cannot create objects of an\\nabstract class and these are only meant to be inherited. Then an object of the derived class is used to\\naccess the features of the base class. These are specifically defined to lay a foundation of other classes\\nthat exhibit common behavior or characteristics.\\n'"
      ]
     },
     "execution_count": 3,
     "metadata": {},
     "output_type": "execute_result"
    }
   ],
   "source": [
    "'''Q4. How can we achieve data abstraction?\n",
    "\n",
    "Data Abstraction in Python can be achieved through creating abstract classes and inheriting them later. \n",
    "Abstract Class: The classes that cannot be instantiated. This means that we cannot create objects of an\n",
    "abstract class and these are only meant to be inherited. Then an object of the derived class is used to\n",
    "access the features of the base class. These are specifically defined to lay a foundation of other classes\n",
    "that exhibit common behavior or characteristics.\n",
    "'''"
   ]
  },
  {
   "cell_type": "code",
   "execution_count": 4,
   "id": "597d9aed",
   "metadata": {},
   "outputs": [
    {
     "data": {
      "text/plain": [
       "'Q5. Can we create an instance of an abstract class? Explain your answer.\\n\\nNo , Abstract classes are incomplete because they have methods that have nobody.\\nIf python allows creating an object for abstract classes then using that object\\nif anyone calls the abstract method, but there is no actual implementation to invoke.\\nSo we use an abstract class as a template and according to the need, we extend it and \\nbuild on it before we can use it. Due to the fact, an abstract class is not a concrete \\nclass, it cannot be instantiated. When we create an object for the abstract class it raises an error. \\n'"
      ]
     },
     "execution_count": 4,
     "metadata": {},
     "output_type": "execute_result"
    }
   ],
   "source": [
    "'''Q5. Can we create an instance of an abstract class? Explain your answer.\n",
    "\n",
    "No , Abstract classes are incomplete because they have methods that have nobody.\n",
    "If python allows creating an object for abstract classes then using that object\n",
    "if anyone calls the abstract method, but there is no actual implementation to invoke.\n",
    "So we use an abstract class as a template and according to the need, we extend it and \n",
    "build on it before we can use it. Due to the fact, an abstract class is not a concrete \n",
    "class, it cannot be instantiated. When we create an object for the abstract class it raises an error. \n",
    "'''"
   ]
  },
  {
   "cell_type": "code",
   "execution_count": null,
   "id": "bbbc2710",
   "metadata": {},
   "outputs": [],
   "source": []
  }
 ],
 "metadata": {
  "kernelspec": {
   "display_name": "Python 3 (ipykernel)",
   "language": "python",
   "name": "python3"
  },
  "language_info": {
   "codemirror_mode": {
    "name": "ipython",
    "version": 3
   },
   "file_extension": ".py",
   "mimetype": "text/x-python",
   "name": "python",
   "nbconvert_exporter": "python",
   "pygments_lexer": "ipython3",
   "version": "3.10.9"
  }
 },
 "nbformat": 4,
 "nbformat_minor": 5
}
